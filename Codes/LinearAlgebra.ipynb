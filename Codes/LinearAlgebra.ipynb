{
 "cells": [
  {
   "cell_type": "markdown",
   "id": "51091f24",
   "metadata": {},
   "source": [
    "# Linear Algebra Recollection"
   ]
  },
  {
   "cell_type": "markdown",
   "id": "9822232b",
   "metadata": {},
   "source": [
    "## Vector Operations"
   ]
  },
  {
   "cell_type": "code",
   "execution_count": 1,
   "id": "1a70a8b4",
   "metadata": {},
   "outputs": [],
   "source": [
    "import numpy as np"
   ]
  },
  {
   "cell_type": "code",
   "execution_count": 4,
   "id": "8bf031dd",
   "metadata": {},
   "outputs": [],
   "source": [
    "u = np.array([2,4,6,8])\n",
    "v = np.array([3,5,7,9])"
   ]
  },
  {
   "cell_type": "code",
   "execution_count": 5,
   "id": "f54c0b18",
   "metadata": {},
   "outputs": [
    {
     "data": {
      "text/plain": [
       "array([ 5,  9, 13, 17])"
      ]
     },
     "execution_count": 5,
     "metadata": {},
     "output_type": "execute_result"
    }
   ],
   "source": [
    "# Addition\n",
    "u + v"
   ]
  },
  {
   "cell_type": "code",
   "execution_count": 6,
   "id": "0a392492",
   "metadata": {},
   "outputs": [
    {
     "data": {
      "text/plain": [
       "array([-1, -1, -1, -1])"
      ]
     },
     "execution_count": 6,
     "metadata": {},
     "output_type": "execute_result"
    }
   ],
   "source": [
    "# Subtraction\n",
    "u - v"
   ]
  },
  {
   "cell_type": "code",
   "execution_count": 7,
   "id": "fa959223",
   "metadata": {},
   "outputs": [
    {
     "data": {
      "text/plain": [
       "array([ 6, 20, 42, 72])"
      ]
     },
     "execution_count": 7,
     "metadata": {},
     "output_type": "execute_result"
    }
   ],
   "source": [
    "# Multiplication\n",
    "u * v"
   ]
  },
  {
   "cell_type": "code",
   "execution_count": 8,
   "id": "b33e70cb",
   "metadata": {},
   "outputs": [
    {
     "data": {
      "text/plain": [
       "array([ 6, 10, 14, 18])"
      ]
     },
     "execution_count": 8,
     "metadata": {},
     "output_type": "execute_result"
    }
   ],
   "source": [
    "# Scalar Multiplication\n",
    "v * 2"
   ]
  },
  {
   "cell_type": "markdown",
   "id": "b46ae9cb",
   "metadata": {},
   "source": [
    "#### Vector Vector Multiplication   "
   ]
  },
  {
   "cell_type": "code",
   "execution_count": 9,
   "id": "67199e2b",
   "metadata": {},
   "outputs": [],
   "source": [
    "def vec_vec_multiplication(a, b):\n",
    "    assert a.shape[0] == b.shape[0]\n",
    "    n = a.shape[0]\n",
    "    result = 0.0\n",
    "\n",
    "    for i in range(n):\n",
    "        result = result + a[i] * b[i]   # summation of i=0 to n-1 (ui*vi)\n",
    "    return result\n"
   ]
  },
  {
   "cell_type": "code",
   "execution_count": 10,
   "id": "9ba624da",
   "metadata": {},
   "outputs": [
    {
     "data": {
      "text/plain": [
       "140.0"
      ]
     },
     "execution_count": 10,
     "metadata": {},
     "output_type": "execute_result"
    }
   ],
   "source": [
    "vec_vec_multiplication(u,v)"
   ]
  },
  {
   "cell_type": "code",
   "execution_count": 11,
   "id": "616d05d4",
   "metadata": {},
   "outputs": [
    {
     "data": {
      "text/plain": [
       "140"
      ]
     },
     "execution_count": 11,
     "metadata": {},
     "output_type": "execute_result"
    }
   ],
   "source": [
    "u.dot(v)"
   ]
  },
  {
   "cell_type": "markdown",
   "id": "568f527b",
   "metadata": {},
   "source": [
    "#### Matrix Vector Multiplication"
   ]
  },
  {
   "cell_type": "code",
   "execution_count": 15,
   "id": "a9226431",
   "metadata": {},
   "outputs": [],
   "source": [
    "mat_a = np.array([[1,2,3],[4,5,6],[7,8,9],[10,11,12]])\n",
    "vec_b = np.array([1,2,3])"
   ]
  },
  {
   "cell_type": "code",
   "execution_count": 17,
   "id": "68585fb8",
   "metadata": {},
   "outputs": [
    {
     "data": {
      "text/plain": [
       "array([[ 1,  2,  3],\n",
       "       [ 4,  5,  6],\n",
       "       [ 7,  8,  9],\n",
       "       [10, 11, 12]])"
      ]
     },
     "execution_count": 17,
     "metadata": {},
     "output_type": "execute_result"
    }
   ],
   "source": [
    "mat_a"
   ]
  },
  {
   "cell_type": "code",
   "execution_count": 16,
   "id": "bc736ddb",
   "metadata": {},
   "outputs": [
    {
     "data": {
      "text/plain": [
       "(4, 3)"
      ]
     },
     "execution_count": 16,
     "metadata": {},
     "output_type": "execute_result"
    }
   ],
   "source": [
    "mat_a.shape         #mat_a[0] = rows #mat_a[1] = columns"
   ]
  },
  {
   "cell_type": "code",
   "execution_count": 26,
   "id": "4efd23f1",
   "metadata": {},
   "outputs": [],
   "source": [
    "def mat_vec_multiplication(mat, vec):\n",
    "    assert mat.shape[1] == vec.shape[0]\n",
    "\n",
    "    result = np.zeros((mat.shape[0]))\n",
    "    for i in range(mat.shape[0]):\n",
    "        result[i] = vec_vec_multiplication(mat[i], vec)\n",
    "    return result"
   ]
  },
  {
   "cell_type": "code",
   "execution_count": 27,
   "id": "5af415c2",
   "metadata": {},
   "outputs": [
    {
     "data": {
      "text/plain": [
       "array([14., 32., 50., 68.])"
      ]
     },
     "execution_count": 27,
     "metadata": {},
     "output_type": "execute_result"
    }
   ],
   "source": [
    "mat_vec_multiplication(mat_a, vec_b)"
   ]
  },
  {
   "cell_type": "code",
   "execution_count": 28,
   "id": "b137f624",
   "metadata": {},
   "outputs": [
    {
     "data": {
      "text/plain": [
       "array([14, 32, 50, 68])"
      ]
     },
     "execution_count": 28,
     "metadata": {},
     "output_type": "execute_result"
    }
   ],
   "source": [
    "mat_a.dot(vec_b)"
   ]
  },
  {
   "cell_type": "markdown",
   "id": "bd91adac",
   "metadata": {},
   "source": [
    "#### Matrix Matrix Multiplication"
   ]
  },
  {
   "cell_type": "code",
   "execution_count": null,
   "id": "0e06ac72",
   "metadata": {},
   "outputs": [],
   "source": [
    "def mat_mat_multiplication(mata, matb):\n",
    "    assert mata.shape"
   ]
  }
 ],
 "metadata": {
  "kernelspec": {
   "display_name": "MLzc-env",
   "language": "python",
   "name": "python3"
  },
  "language_info": {
   "codemirror_mode": {
    "name": "ipython",
    "version": 3
   },
   "file_extension": ".py",
   "mimetype": "text/x-python",
   "name": "python",
   "nbconvert_exporter": "python",
   "pygments_lexer": "ipython3",
   "version": "3.9.6"
  }
 },
 "nbformat": 4,
 "nbformat_minor": 5
}
