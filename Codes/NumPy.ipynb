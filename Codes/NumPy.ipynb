{
 "cells": [
  {
   "cell_type": "markdown",
   "id": "2e83b45e-f3bd-4061-af59-a1965f690efb",
   "metadata": {},
   "source": [
    "# Array Creation\n",
    "Array's  can be created in multiple ways in NumPy"
   ]
  },
  {
   "cell_type": "code",
   "execution_count": 4,
   "id": "773a9ef1-ef82-4fcc-a7b8-1b1c7739dc2a",
   "metadata": {},
   "outputs": [
    {
     "name": "stdout",
     "output_type": "stream",
     "text": [
      "Collecting numpy\n",
      "  Obtaining dependency information for numpy from https://files.pythonhosted.org/packages/72/b2/02770e60c4e2f7e158d923ab0dea4e9f146a2dbf267fec6d8dc61d475689/numpy-1.25.2-cp311-cp311-win_amd64.whl.metadata\n",
      "  Downloading numpy-1.25.2-cp311-cp311-win_amd64.whl.metadata (5.7 kB)\n",
      "Using cached numpy-1.25.2-cp311-cp311-win_amd64.whl (15.5 MB)\n",
      "Installing collected packages: numpy\n",
      "Successfully installed numpy-1.25.2\n",
      "Note: you may need to restart the kernel to use updated packages.\n"
     ]
    }
   ],
   "source": [
    "%pip install numpy"
   ]
  },
  {
   "cell_type": "code",
   "execution_count": 3,
   "id": "cc817fa3-8e45-4fdc-a35d-493fbac5a544",
   "metadata": {},
   "outputs": [],
   "source": [
    "import numpy as np # import numpy into current session"
   ]
  },
  {
   "cell_type": "code",
   "execution_count": 4,
   "id": "74b73d4a-c648-4023-a7fe-5b0c4ed8f1b2",
   "metadata": {},
   "outputs": [
    {
     "data": {
      "text/plain": [
       "array([1, 2, 3, 4, 5, 6, 7, 8, 9])"
      ]
     },
     "execution_count": 4,
     "metadata": {},
     "output_type": "execute_result"
    }
   ],
   "source": [
    "# Array using python list\n",
    "l1 = [1,2,3,4,5,6,7,8,9]\n",
    "np.array(l1)"
   ]
  },
  {
   "cell_type": "code",
   "execution_count": 9,
   "id": "26de666e-1ad9-4f8c-9ee5-20e52f1f85ba",
   "metadata": {},
   "outputs": [
    {
     "data": {
      "text/plain": [
       "array([0., 0., 0., 0., 0., 0., 0., 0., 0., 0.])"
      ]
     },
     "execution_count": 9,
     "metadata": {},
     "output_type": "execute_result"
    }
   ],
   "source": [
    "np.zeros(10) # array of zeros parameter will represent no of elements in array"
   ]
  },
  {
   "cell_type": "code",
   "execution_count": 10,
   "id": "f39bf11f-ca83-4626-b78d-82ab5aae9ff7",
   "metadata": {},
   "outputs": [
    {
     "data": {
      "text/plain": [
       "array([1., 1., 1., 1., 1., 1., 1., 1., 1., 1.])"
      ]
     },
     "execution_count": 10,
     "metadata": {},
     "output_type": "execute_result"
    }
   ],
   "source": [
    "# array using np.ones function\n",
    "np.ones(10)"
   ]
  },
  {
   "cell_type": "code",
   "execution_count": 11,
   "id": "4761650a-867a-49b4-9ad5-ae192c5b2718",
   "metadata": {},
   "outputs": [
    {
     "data": {
      "text/plain": [
       "array([20, 20, 20, 20, 20, 20, 20, 20, 20, 20])"
      ]
     },
     "execution_count": 11,
     "metadata": {},
     "output_type": "execute_result"
    }
   ],
   "source": [
    "# array usinf np.full\n",
    "np.full(10, 20) # first arg represent no of elements second arg represent value to be filled in the array"
   ]
  },
  {
   "cell_type": "code",
   "execution_count": 36,
   "id": "ccdfe526-aa75-4eb4-822e-6a1b5bb536db",
   "metadata": {},
   "outputs": [
    {
     "data": {
      "text/plain": [
       "array([1, 2, 3, 4])"
      ]
     },
     "execution_count": 36,
     "metadata": {},
     "output_type": "execute_result"
    }
   ],
   "source": [
    "np.arange(1,5) # array using arange function"
   ]
  },
  {
   "cell_type": "code",
   "execution_count": 13,
   "id": "b9a20c5e-55f7-4244-ad96-e0f9b7dda72b",
   "metadata": {},
   "outputs": [
    {
     "data": {
      "text/plain": [
       "array([2, 5])"
      ]
     },
     "execution_count": 13,
     "metadata": {},
     "output_type": "execute_result"
    }
   ],
   "source": [
    "np.array((2,5)) #array using python tuple"
   ]
  },
  {
   "cell_type": "code",
   "execution_count": 16,
   "id": "4cb230e8-103d-4724-86c4-e114b773bd13",
   "metadata": {},
   "outputs": [
    {
     "data": {
      "text/plain": [
       "array([0.52029093, 0.14996177, 0.04648363, 0.54638007, 0.23258999,\n",
       "       0.31928237, 0.47397067, 0.11053376, 0.78116317, 0.35403551])"
      ]
     },
     "execution_count": 16,
     "metadata": {},
     "output_type": "execute_result"
    }
   ],
   "source": [
    "np.random.rand(10) # array using random function"
   ]
  },
  {
   "cell_type": "code",
   "execution_count": 17,
   "id": "f7dfe898-745e-49e1-be50-c3fee5b214e1",
   "metadata": {},
   "outputs": [
    {
     "data": {
      "text/plain": [
       "array([0.77132064, 0.02075195, 0.63364823, 0.74880388, 0.49850701])"
      ]
     },
     "execution_count": 17,
     "metadata": {},
     "output_type": "execute_result"
    }
   ],
   "source": [
    "np.random.seed(10) # to retrive same random number everytime using the seed number\n",
    "np.random.rand(5)"
   ]
  },
  {
   "cell_type": "code",
   "execution_count": 19,
   "id": "1de7b87d-14a8-4500-9eb6-aed10f8d955a",
   "metadata": {},
   "outputs": [
    {
     "data": {
      "text/plain": [
       "array([10., 11., 12., 13., 14., 15., 16., 17., 18., 19., 20.])"
      ]
     },
     "execution_count": 19,
     "metadata": {},
     "output_type": "execute_result"
    }
   ],
   "source": [
    "np.linspace(10,20,11) # linspace function create linear number of elements between the range of numbers \n",
    "                      # arg1 represenet start of range arg2 end of range arg3 represent number of elements to be generated linearly between the range"
   ]
  },
  {
   "cell_type": "markdown",
   "id": "5f607c75-0b09-4e74-b959-9bb64bad506b",
   "metadata": {},
   "source": [
    "# Multi Dimensional Array's \n",
    "#### using NumPy we can create N-dimension array's"
   ]
  },
  {
   "cell_type": "code",
   "execution_count": 39,
   "id": "19ef0e29-0a93-48b3-9648-be222ffdd1ac",
   "metadata": {},
   "outputs": [
    {
     "data": {
      "text/plain": [
       "array([[1, 2, 3],\n",
       "       [3, 5, 6]])"
      ]
     },
     "execution_count": 39,
     "metadata": {},
     "output_type": "execute_result"
    }
   ],
   "source": [
    "l2 = [[1,2,3],[3,5,6]]\n",
    "np.array(l2) # 2-D array using python list"
   ]
  },
  {
   "cell_type": "code",
   "execution_count": 41,
   "id": "17d0736e-a54d-4cd4-a110-67a741795482",
   "metadata": {},
   "outputs": [
    {
     "data": {
      "text/plain": [
       "array([[0., 0., 0.],\n",
       "       [0., 0., 0.]])"
      ]
     },
     "execution_count": 41,
     "metadata": {},
     "output_type": "execute_result"
    }
   ],
   "source": [
    "np.zeros((2,3))"
   ]
  },
  {
   "cell_type": "code",
   "execution_count": 42,
   "id": "12346dac-8006-469e-ac11-3a073c9d86fa",
   "metadata": {},
   "outputs": [
    {
     "data": {
      "text/plain": [
       "array([[1., 1.],\n",
       "       [1., 1.]])"
      ]
     },
     "execution_count": 42,
     "metadata": {},
     "output_type": "execute_result"
    }
   ],
   "source": [
    "np.ones((2,2))"
   ]
  },
  {
   "cell_type": "markdown",
   "id": "b776a6fb-19b5-4540-a8d7-03ce33bf76ec",
   "metadata": {},
   "source": [
    "# Array Access Operations\n",
    "##### NumPy array can be accessed similar to python lists"
   ]
  },
  {
   "cell_type": "code",
   "execution_count": 25,
   "id": "8c29850d-5204-4646-b627-82c16c88ea4f",
   "metadata": {},
   "outputs": [
    {
     "data": {
      "text/plain": [
       "array([0.0768555 , 0.85304299, 0.43998746, 0.12195415, 0.73173462,\n",
       "       0.13878247, 0.76688005, 0.83198977, 0.30977806, 0.59758229])"
      ]
     },
     "execution_count": 25,
     "metadata": {},
     "output_type": "execute_result"
    }
   ],
   "source": [
    "a = np.random.rand(10)\n",
    "a"
   ]
  },
  {
   "cell_type": "code",
   "execution_count": 28,
   "id": "58f424a8-efbf-4dd7-9cbf-83949c82b7f4",
   "metadata": {},
   "outputs": [
    {
     "data": {
      "text/plain": [
       "0.07685550174624711"
      ]
     },
     "execution_count": 28,
     "metadata": {},
     "output_type": "execute_result"
    }
   ],
   "source": [
    "a[0] # access 1st element; index start from zero same as python list"
   ]
  },
  {
   "cell_type": "code",
   "execution_count": 30,
   "id": "1e38e9e3-129b-4f39-b2e3-3381e9b79be6",
   "metadata": {},
   "outputs": [
    {
     "data": {
      "text/plain": [
       "0.5975822902915008"
      ]
     },
     "execution_count": 30,
     "metadata": {},
     "output_type": "execute_result"
    }
   ],
   "source": [
    "a[-1] # access last element of numpy array"
   ]
  },
  {
   "cell_type": "code",
   "execution_count": 32,
   "id": "18d16ad0-9503-4c4f-9b05-5f4f7d9ff0b6",
   "metadata": {},
   "outputs": [
    {
     "data": {
      "text/plain": [
       "array([0.0768555 , 0.85304299, 0.43998746, 0.12195415])"
      ]
     },
     "execution_count": 32,
     "metadata": {},
     "output_type": "execute_result"
    }
   ],
   "source": [
    "a[0:4] # access range of elements last element not included"
   ]
  },
  {
   "cell_type": "code",
   "execution_count": 33,
   "id": "d1b934a2-88c2-40c3-af65-0ca83e1b9cdc",
   "metadata": {},
   "outputs": [
    {
     "data": {
      "text/plain": [
       "array([0.76688005, 0.83198977, 0.30977806])"
      ]
     },
     "execution_count": 33,
     "metadata": {},
     "output_type": "execute_result"
    }
   ],
   "source": [
    "a[-4:-1] # range of ele can also be accessed using negative indexes"
   ]
  },
  {
   "cell_type": "code",
   "execution_count": 43,
   "id": "269e2359-55d2-4609-80a9-6628b579d7f2",
   "metadata": {},
   "outputs": [
    {
     "data": {
      "text/plain": [
       "array([[1, 2, 3],\n",
       "       [4, 5, 6],\n",
       "       [7, 8, 9]])"
      ]
     },
     "execution_count": 43,
     "metadata": {},
     "output_type": "execute_result"
    }
   ],
   "source": [
    "b = np.array([[1,2,3],[4,5,6],[7,8,9]])\n",
    "b"
   ]
  },
  {
   "cell_type": "code",
   "execution_count": 44,
   "id": "ff1c6d46-4532-4032-a046-f5329d5e5c6f",
   "metadata": {},
   "outputs": [
    {
     "data": {
      "text/plain": [
       "2"
      ]
     },
     "execution_count": 44,
     "metadata": {},
     "output_type": "execute_result"
    }
   ],
   "source": [
    "b[0,1] # access first element in 2D array"
   ]
  },
  {
   "cell_type": "code",
   "execution_count": 46,
   "id": "45c16881-58bd-46f3-a95a-10866769d6af",
   "metadata": {},
   "outputs": [
    {
     "data": {
      "text/plain": [
       "array([1, 2, 3])"
      ]
     },
     "execution_count": 46,
     "metadata": {},
     "output_type": "execute_result"
    }
   ],
   "source": [
    "b[0,] # access single row"
   ]
  },
  {
   "cell_type": "code",
   "execution_count": 49,
   "id": "7f0add22-0597-4ac7-97e6-695f82d00d7d",
   "metadata": {},
   "outputs": [
    {
     "data": {
      "text/plain": [
       "array([1, 4, 7])"
      ]
     },
     "execution_count": 49,
     "metadata": {},
     "output_type": "execute_result"
    }
   ],
   "source": [
    "b[:,0] # access single column"
   ]
  },
  {
   "cell_type": "code",
   "execution_count": 51,
   "id": "3e70af4f-8a66-4322-a66a-50640a34eed5",
   "metadata": {},
   "outputs": [
    {
     "data": {
      "text/plain": [
       "array([[1, 2],\n",
       "       [4, 5]])"
      ]
     },
     "execution_count": 51,
     "metadata": {},
     "output_type": "execute_result"
    }
   ],
   "source": [
    "b[:2,:2] # access part of 2D array"
   ]
  },
  {
   "cell_type": "markdown",
   "id": "560036c6-e43e-47e3-9ecf-afec6df02eaa",
   "metadata": {},
   "source": [
    "# Summarization Operations\n",
    "#### Ex: sum, min, max, mean, std"
   ]
  },
  {
   "cell_type": "code",
   "execution_count": 53,
   "id": "d8eb0862-1fc7-437d-81c4-f56290ce42ec",
   "metadata": {},
   "outputs": [
    {
     "data": {
      "text/plain": [
       "array([ 0,  1,  2,  3,  4,  5,  6,  7,  8,  9, 10, 11, 12, 13, 14, 15, 16,\n",
       "       17, 18, 19])"
      ]
     },
     "execution_count": 53,
     "metadata": {},
     "output_type": "execute_result"
    }
   ],
   "source": [
    "a = np.arange(20)\n",
    "a"
   ]
  },
  {
   "cell_type": "code",
   "execution_count": 55,
   "id": "e0d4d93f-3523-4e91-af26-ffa501bdf44e",
   "metadata": {},
   "outputs": [
    {
     "data": {
      "text/plain": [
       "9.5"
      ]
     },
     "execution_count": 55,
     "metadata": {},
     "output_type": "execute_result"
    }
   ],
   "source": [
    "a.mean() # mean of array"
   ]
  },
  {
   "cell_type": "code",
   "execution_count": 56,
   "id": "90f4a803-0644-4535-be9e-049eb8b2fc81",
   "metadata": {},
   "outputs": [
    {
     "data": {
      "text/plain": [
       "0"
      ]
     },
     "execution_count": 56,
     "metadata": {},
     "output_type": "execute_result"
    }
   ],
   "source": [
    "a.min() # min value of array"
   ]
  },
  {
   "cell_type": "code",
   "execution_count": 57,
   "id": "0cd22512-87dc-4597-af6f-a7fee1d32688",
   "metadata": {},
   "outputs": [
    {
     "data": {
      "text/plain": [
       "19"
      ]
     },
     "execution_count": 57,
     "metadata": {},
     "output_type": "execute_result"
    }
   ],
   "source": [
    "a.max() #max value of array"
   ]
  },
  {
   "cell_type": "code",
   "execution_count": 60,
   "id": "b63b7b54-3ac3-44d9-aee2-7f0fe3824c17",
   "metadata": {},
   "outputs": [
    {
     "data": {
      "text/plain": [
       "190"
      ]
     },
     "execution_count": 60,
     "metadata": {},
     "output_type": "execute_result"
    }
   ],
   "source": [
    "a.sum() #sum of array"
   ]
  },
  {
   "cell_type": "code",
   "execution_count": 62,
   "id": "738e8fc0-f2e9-47ef-af28-f19c5e40e850",
   "metadata": {},
   "outputs": [
    {
     "data": {
      "text/plain": [
       "20"
      ]
     },
     "execution_count": 62,
     "metadata": {},
     "output_type": "execute_result"
    }
   ],
   "source": [
    "len(a) # length of array"
   ]
  },
  {
   "cell_type": "code",
   "execution_count": 64,
   "id": "ad3e202f-dae2-4e93-84a8-1bfc0fdb1a7c",
   "metadata": {},
   "outputs": [
    {
     "data": {
      "text/plain": [
       "5.766281297335398"
      ]
     },
     "execution_count": 64,
     "metadata": {},
     "output_type": "execute_result"
    }
   ],
   "source": [
    "a.std() # standard deviation"
   ]
  },
  {
   "cell_type": "markdown",
   "id": "e6ece3f0-523d-409e-bf28-36a228b32b5d",
   "metadata": {},
   "source": [
    "# Element wise operations"
   ]
  },
  {
   "cell_type": "code",
   "execution_count": 68,
   "id": "43dd354a-fb64-4d25-9ac4-40219d221a4a",
   "metadata": {},
   "outputs": [
    {
     "data": {
      "text/plain": [
       "(array([1, 2, 3, 4]), array([2, 3, 4, 5]))"
      ]
     },
     "execution_count": 68,
     "metadata": {},
     "output_type": "execute_result"
    }
   ],
   "source": [
    "x = np.arange(1,5)\n",
    "y = np.arange(2,6)\n",
    "x,y"
   ]
  },
  {
   "cell_type": "code",
   "execution_count": 69,
   "id": "0e89880e-bbf9-479a-b8b7-903027294b8f",
   "metadata": {},
   "outputs": [
    {
     "data": {
      "text/plain": [
       "array([False, False, False, False])"
      ]
     },
     "execution_count": 69,
     "metadata": {},
     "output_type": "execute_result"
    }
   ],
   "source": [
    "x>y"
   ]
  },
  {
   "cell_type": "code",
   "execution_count": 70,
   "id": "1cc11412-86de-4954-bb16-08d1852d724b",
   "metadata": {},
   "outputs": [
    {
     "data": {
      "text/plain": [
       "array([ True,  True,  True,  True])"
      ]
     },
     "execution_count": 70,
     "metadata": {},
     "output_type": "execute_result"
    }
   ],
   "source": [
    "y>x"
   ]
  },
  {
   "cell_type": "code",
   "execution_count": 71,
   "id": "ad1a5536-8865-4e33-8781-29b6efc2f948",
   "metadata": {},
   "outputs": [
    {
     "data": {
      "text/plain": [
       "array([ 2,  6, 12, 20])"
      ]
     },
     "execution_count": 71,
     "metadata": {},
     "output_type": "execute_result"
    }
   ],
   "source": [
    "x*y"
   ]
  },
  {
   "cell_type": "code",
   "execution_count": 73,
   "id": "8b46a327-078e-4cc3-827c-0b3b7c507547",
   "metadata": {},
   "outputs": [
    {
     "data": {
      "text/plain": [
       "array([ 1.33333333,  4.        ,  8.        , 13.33333333])"
      ]
     },
     "execution_count": 73,
     "metadata": {},
     "output_type": "execute_result"
    }
   ],
   "source": [
    "(x*y)/1.5"
   ]
  },
  {
   "cell_type": "code",
   "execution_count": 75,
   "id": "b211bda5-aca8-4585-ab1d-733670157980",
   "metadata": {},
   "outputs": [
    {
     "data": {
      "text/plain": [
       "array([0.5       , 0.66666667, 0.75      , 0.8       ])"
      ]
     },
     "execution_count": 75,
     "metadata": {},
     "output_type": "execute_result"
    }
   ],
   "source": [
    "x/y"
   ]
  },
  {
   "cell_type": "code",
   "execution_count": 76,
   "id": "20c950a0-9733-4f12-8092-5de6b733c924",
   "metadata": {},
   "outputs": [
    {
     "data": {
      "text/plain": [
       "array([   1,    8,   81, 1024])"
      ]
     },
     "execution_count": 76,
     "metadata": {},
     "output_type": "execute_result"
    }
   ],
   "source": [
    "x**y"
   ]
  }
 ],
 "metadata": {
  "kernelspec": {
   "display_name": "Python 3 (ipykernel)",
   "language": "python",
   "name": "python3"
  },
  "language_info": {
   "codemirror_mode": {
    "name": "ipython",
    "version": 3
   },
   "file_extension": ".py",
   "mimetype": "text/x-python",
   "name": "python",
   "nbconvert_exporter": "python",
   "pygments_lexer": "ipython3",
   "version": "3.11.5"
  }
 },
 "nbformat": 4,
 "nbformat_minor": 5
}
